{
 "cells": [
  {
   "cell_type": "code",
   "execution_count": 1,
   "metadata": {},
   "outputs": [
    {
     "name": "stderr",
     "output_type": "stream",
     "text": [
      "Using TensorFlow backend.\n"
     ]
    }
   ],
   "source": [
    "# Import Library\n",
    "import numpy as np\n",
    "import pandas as pd\n",
    "import matplotlib.pyplot as plt\n",
    "from sklearn.model_selection import train_test_split\n",
    "import tensorflow as tf\n",
    "from keras.preprocessing.image import ImageDataGenerator\n",
    "from tensorflow.keras.callbacks import EarlyStopping, ReduceLROnPlateau\n",
    "from tensorflow.keras.optimizers import Adam\n",
    "import random\n",
    "import os\n"
   ]
  },
  {
   "cell_type": "code",
   "execution_count": 2,
   "metadata": {},
   "outputs": [
    {
     "name": "stdout",
     "output_type": "stream",
     "text": [
      "Files in 'D:\\\\Projects\\\\Dogs Vs Cats': ['.ipynb_checkpoints', 'Dataset', 'models.py', 'models_no_BN.py', 'Prediction.ipynb', 'Saved_Models', 'submission.csv', 'Training.ipynb', '__pycache__']\n",
      "Number of training images: 25000\n",
      "Number of test images: 12462\n"
     ]
    }
   ],
   "source": [
    "# Load the directories\n",
    "cwd = os.getcwd()  # Get the current working directory (cwd)\n",
    "files = os.listdir(cwd)  # Get all the files in that directory\n",
    "print(\"Files in %r: %s\" % (cwd, files))\n",
    "\n",
    "Train_dir = \"Dataset/Train\"\n",
    "Test_dir = \"Dataset/test1\"\n",
    "\n",
    "Train_size = len([name for name in os.listdir(Train_dir)])\n",
    "Test_size = len([name for name in os.listdir(Test_dir)])\n",
    "print(\"Number of training images:\", Train_size)\n",
    "print(\"Number of test images:\", Test_size)"
   ]
  },
  {
   "cell_type": "code",
   "execution_count": 3,
   "metadata": {},
   "outputs": [
    {
     "data": {
      "text/plain": [
       "<matplotlib.axes._subplots.AxesSubplot at 0x244ca4f9978>"
      ]
     },
     "execution_count": 3,
     "metadata": {},
     "output_type": "execute_result"
    },
    {
     "data": {
      "image/png": "[encoded data removed]",
      "text/plain": [
       "<Figure size 432x288 with 1 Axes>"
      ]
     },
     "metadata": {
      "needs_background": "light"
     },
     "output_type": "display_data"
    }
   ],
   "source": [
    "# Prepare the data\n",
    "\n",
    "# Creating df with training files\n",
    "\n",
    "filenames = os.listdir(Train_dir)\n",
    "labels = []\n",
    "\n",
    "for filename in filenames:\n",
    "    label = filename.split('.')[0]\n",
    "    labels.append(label)\n",
    "\n",
    "df = pd.DataFrame({\n",
    "    'filename' : filenames,\n",
    "    'category' : labels\n",
    "})\n",
    "\n",
    "# Total count of the categories\n",
    "df['category'].value_counts().plot.bar()\n"
   ]
  },
  {
   "cell_type": "code",
   "execution_count": 4,
   "metadata": {},
   "outputs": [
    {
     "data": {
      "text/html": [
       "<div>\n",
       "<style scoped>\n",
       "    .dataframe tbody tr th:only-of-type {\n",
       "        vertical-align: middle;\n",
       "    }\n",
       "\n",
       "    .dataframe tbody tr th {\n",
       "        vertical-align: top;\n",
       "    }\n",
       "\n",
       "    .dataframe thead th {\n",
       "        text-align: right;\n",
       "    }\n",
       "</style>\n",
       "<table border=\"1\" class=\"dataframe\">\n",
       "  <thead>\n",
       "    <tr style=\"text-align: right;\">\n",
       "      <th></th>\n",
       "      <th>filename</th>\n",
       "      <th>category</th>\n",
       "    </tr>\n",
       "  </thead>\n",
       "  <tbody>\n",
       "    <tr>\n",
       "      <th>0</th>\n",
       "      <td>cat.0.jpg</td>\n",
       "      <td>cat</td>\n",
       "    </tr>\n",
       "    <tr>\n",
       "      <th>1</th>\n",
       "      <td>cat.1.jpg</td>\n",
       "      <td>cat</td>\n",
       "    </tr>\n",
       "    <tr>\n",
       "      <th>2</th>\n",
       "      <td>cat.10.jpg</td>\n",
       "      <td>cat</td>\n",
       "    </tr>\n",
       "    <tr>\n",
       "      <th>3</th>\n",
       "      <td>cat.100.jpg</td>\n",
       "      <td>cat</td>\n",
       "    </tr>\n",
       "    <tr>\n",
       "      <th>4</th>\n",
       "      <td>cat.1000.jpg</td>\n",
       "      <td>cat</td>\n",
       "    </tr>\n",
       "  </tbody>\n",
       "</table>\n",
       "</div>"
      ],
      "text/plain": [
       "       filename category\n",
       "0     cat.0.jpg      cat\n",
       "1     cat.1.jpg      cat\n",
       "2    cat.10.jpg      cat\n",
       "3   cat.100.jpg      cat\n",
       "4  cat.1000.jpg      cat"
      ]
     },
     "execution_count": 4,
     "metadata": {},
     "output_type": "execute_result"
    }
   ],
   "source": [
    "df.head()"
   ]
  },
  {
   "cell_type": "code",
   "execution_count": 5,
   "metadata": {},
   "outputs": [
    {
     "data": {
      "text/html": [
       "<div>\n",
       "<style scoped>\n",
       "    .dataframe tbody tr th:only-of-type {\n",
       "        vertical-align: middle;\n",
       "    }\n",
       "\n",
       "    .dataframe tbody tr th {\n",
       "        vertical-align: top;\n",
       "    }\n",
       "\n",
       "    .dataframe thead th {\n",
       "        text-align: right;\n",
       "    }\n",
       "</style>\n",
       "<table border=\"1\" class=\"dataframe\">\n",
       "  <thead>\n",
       "    <tr style=\"text-align: right;\">\n",
       "      <th></th>\n",
       "      <th>filename</th>\n",
       "      <th>category</th>\n",
       "    </tr>\n",
       "  </thead>\n",
       "  <tbody>\n",
       "    <tr>\n",
       "      <th>24995</th>\n",
       "      <td>dog.9995.jpg</td>\n",
       "      <td>dog</td>\n",
       "    </tr>\n",
       "    <tr>\n",
       "      <th>24996</th>\n",
       "      <td>dog.9996.jpg</td>\n",
       "      <td>dog</td>\n",
       "    </tr>\n",
       "    <tr>\n",
       "      <th>24997</th>\n",
       "      <td>dog.9997.jpg</td>\n",
       "      <td>dog</td>\n",
       "    </tr>\n",
       "    <tr>\n",
       "      <th>24998</th>\n",
       "      <td>dog.9998.jpg</td>\n",
       "      <td>dog</td>\n",
       "    </tr>\n",
       "    <tr>\n",
       "      <th>24999</th>\n",
       "      <td>dog.9999.jpg</td>\n",
       "      <td>dog</td>\n",
       "    </tr>\n",
       "  </tbody>\n",
       "</table>\n",
       "</div>"
      ],
      "text/plain": [
       "           filename category\n",
       "24995  dog.9995.jpg      dog\n",
       "24996  dog.9996.jpg      dog\n",
       "24997  dog.9997.jpg      dog\n",
       "24998  dog.9998.jpg      dog\n",
       "24999  dog.9999.jpg      dog"
      ]
     },
     "execution_count": 5,
     "metadata": {},
     "output_type": "execute_result"
    }
   ],
   "source": [
    "df.tail()"
   ]
  },
  {
   "cell_type": "code",
   "execution_count": 6,
   "metadata": {},
   "outputs": [],
   "source": [
    "# Splitting the data into train & validation\n",
    "\n",
    "Batch_size = 32\n",
    "split_size = 0.2\n",
    "Image_width = 150\n",
    "Image_height = 150\n",
    "Image_size = (Image_width, Image_height)\n",
    "\n",
    "train_df, valid_df = train_test_split(df,test_size = split_size)"
   ]
  },
  {
   "cell_type": "code",
   "execution_count": 7,
   "metadata": {},
   "outputs": [
    {
     "name": "stdout",
     "output_type": "stream",
     "text": [
      "Found 20000 validated image filenames belonging to 2 classes.\n"
     ]
    }
   ],
   "source": [
    "# Training Generator \n",
    "\n",
    "train_datagen = ImageDataGenerator(rescale = 1/255,\n",
    "                                   rotation_range = 40,\n",
    "                                   width_shift_range = 0.2,\n",
    "                                   height_shift_range = 0.2,\n",
    "                                   shear_range = 0.2,\n",
    "                                   zoom_range = 0.2,\n",
    "                                   horizontal_flip = True,\n",
    "                                   fill_mode = 'nearest')\n",
    "\n",
    "train_generator = train_datagen.flow_from_dataframe(train_df,\n",
    "                                                    Train_dir,\n",
    "                                                    x_col = 'filename',\n",
    "                                                    y_col = 'category',\n",
    "                                                    target_size = Image_size,\n",
    "                                                    batch_size = Batch_size,\n",
    "                                                    class_mode = 'binary'\n",
    "                                                    )"
   ]
  },
  {
   "cell_type": "code",
   "execution_count": 8,
   "metadata": {},
   "outputs": [
    {
     "name": "stdout",
     "output_type": "stream",
     "text": [
      "Found 5000 validated image filenames belonging to 2 classes.\n",
      "image shape: (32, 150, 150, 3)\n",
      "lables batch shape; (32,)\n"
     ]
    }
   ],
   "source": [
    "# Validation Generator\n",
    "\n",
    "valid_datagen = ImageDataGenerator(rescale = 1/255)\n",
    "\n",
    "valid_generator = train_datagen.flow_from_dataframe(valid_df,\n",
    "                                                    Train_dir,\n",
    "                                                    x_col = 'filename',\n",
    "                                                    y_col = 'category',\n",
    "                                                    target_size = Image_size,\n",
    "                                                    batch_size = Batch_size,\n",
    "                                                    class_mode = 'binary'\n",
    "                                                    )\n",
    "\n",
    "for image_data, lables in train_generator:\n",
    "    print('image shape:', image_data.shape)\n",
    "    print('lables batch shape;', lables.shape)\n",
    "    break\n"
   ]
  },
  {
   "cell_type": "code",
   "execution_count": 9,
   "metadata": {},
   "outputs": [
    {
     "name": "stderr",
     "output_type": "stream",
     "text": [
      "WARNING: Logging before flag parsing goes to stderr.\n",
      "W0529 19:41:05.496624 12472 deprecation.py:506] From c:\\program files\\python37\\lib\\site-packages\\tensorflow\\python\\ops\\init_ops.py:1251: calling VarianceScaling.__init__ (from tensorflow.python.ops.init_ops) with dtype is deprecated and will be removed in a future version.\n",
      "Instructions for updating:\n",
      "Call initializer instance with the dtype argument instead of passing it to the constructor\n"
     ]
    },
    {
     "name": "stdout",
     "output_type": "stream",
     "text": [
      "Model: \"sequential\"\n",
      "_________________________________________________________________\n",
      "Layer (type)                 Output Shape              Param #   \n",
      "=================================================================\n",
      "conv2d (Conv2D)              (None, 150, 150, 32)      896       \n",
      "_________________________________________________________________\n",
      "max_pooling2d (MaxPooling2D) (None, 75, 75, 32)        0         \n",
      "_________________________________________________________________\n",
      "batch_normalization (BatchNo (None, 75, 75, 32)        128       \n",
      "_________________________________________________________________\n",
      "dropout (Dropout)            (None, 75, 75, 32)        0         \n",
      "_________________________________________________________________\n",
      "conv2d_1 (Conv2D)            (None, 75, 75, 64)        18496     \n",
      "_________________________________________________________________\n",
      "max_pooling2d_1 (MaxPooling2 (None, 37, 37, 64)        0         \n",
      "_________________________________________________________________\n",
      "batch_normalization_1 (Batch (None, 37, 37, 64)        256       \n",
      "_________________________________________________________________\n",
      "dropout_1 (Dropout)          (None, 37, 37, 64)        0         \n",
      "_________________________________________________________________\n",
      "conv2d_2 (Conv2D)            (None, 37, 37, 128)       73856     \n",
      "_________________________________________________________________\n",
      "max_pooling2d_2 (MaxPooling2 (None, 18, 18, 128)       0         \n",
      "_________________________________________________________________\n",
      "batch_normalization_2 (Batch (None, 18, 18, 128)       512       \n",
      "_________________________________________________________________\n",
      "dropout_2 (Dropout)          (None, 18, 18, 128)       0         \n",
      "_________________________________________________________________\n",
      "conv2d_3 (Conv2D)            (None, 18, 18, 128)       147584    \n",
      "_________________________________________________________________\n",
      "max_pooling2d_3 (MaxPooling2 (None, 9, 9, 128)         0         \n",
      "_________________________________________________________________\n",
      "batch_normalization_3 (Batch (None, 9, 9, 128)         512       \n",
      "_________________________________________________________________\n",
      "dropout_3 (Dropout)          (None, 9, 9, 128)         0         \n",
      "_________________________________________________________________\n",
      "conv2d_4 (Conv2D)            (None, 9, 9, 256)         295168    \n",
      "_________________________________________________________________\n",
      "max_pooling2d_4 (MaxPooling2 (None, 4, 4, 256)         0         \n",
      "_________________________________________________________________\n",
      "batch_normalization_4 (Batch (None, 4, 4, 256)         1024      \n",
      "_________________________________________________________________\n",
      "dropout_4 (Dropout)          (None, 4, 4, 256)         0         \n",
      "_________________________________________________________________\n",
      "flatten (Flatten)            (None, 4096)              0         \n",
      "_________________________________________________________________\n",
      "dense (Dense)                (None, 512)               2097664   \n",
      "_________________________________________________________________\n",
      "batch_normalization_5 (Batch (None, 512)               2048      \n",
      "_________________________________________________________________\n",
      "dropout_5 (Dropout)          (None, 512)               0         \n",
      "_________________________________________________________________\n",
      "dense_1 (Dense)              (None, 1)                 513       \n",
      "=================================================================\n",
      "Total params: 2,638,657\n",
      "Trainable params: 2,636,417\n",
      "Non-trainable params: 2,240\n",
      "_________________________________________________________________\n",
      "None\n"
     ]
    }
   ],
   "source": [
    "#Once you've define the network, you can instantiate it\n",
    "\n",
    "from models import model\n",
    "model = model()\n"
   ]
  },
  {
   "cell_type": "code",
   "execution_count": 10,
   "metadata": {
    "scrolled": true
   },
   "outputs": [
    {
     "name": "stderr",
     "output_type": "stream",
     "text": [
      "W0529 19:41:05.624625 12472 deprecation.py:323] From c:\\program files\\python37\\lib\\site-packages\\tensorflow\\python\\ops\\nn_impl.py:180: add_dispatch_support.<locals>.wrapper (from tensorflow.python.ops.array_ops) is deprecated and will be removed in a future version.\n",
      "Instructions for updating:\n",
      "Use tf.where in 2.0, which has the same broadcast rule as np.where\n"
     ]
    },
    {
     "name": "stdout",
     "output_type": "stream",
     "text": [
      "Epoch 1/100\n",
      "625/625 - 515s - loss: 0.7504 - acc: 0.6043 - val_loss: 0.6312 - val_acc: 0.6216\n",
      "Epoch 2/100\n",
      "625/625 - 157s - loss: 0.5929 - acc: 0.6867 - val_loss: 0.5392 - val_acc: 0.7224\n",
      "Epoch 3/100\n",
      "625/625 - 123s - loss: 0.5445 - acc: 0.7262 - val_loss: 0.6785 - val_acc: 0.6376\n",
      "Epoch 4/100\n",
      "625/625 - 116s - loss: 0.5101 - acc: 0.7484 - val_loss: 0.5107 - val_acc: 0.7512\n",
      "Epoch 5/100\n",
      "625/625 - 123s - loss: 0.4723 - acc: 0.7773 - val_loss: 0.4247 - val_acc: 0.8085\n",
      "Epoch 6/100\n",
      "625/625 - 120s - loss: 0.4307 - acc: 0.7995 - val_loss: 0.3848 - val_acc: 0.8281\n",
      "Epoch 7/100\n",
      "625/625 - 128s - loss: 0.3864 - acc: 0.8278 - val_loss: 0.8126 - val_acc: 0.6781\n",
      "Epoch 8/100\n",
      "625/625 - 116s - loss: 0.3543 - acc: 0.8424 - val_loss: 0.3289 - val_acc: 0.8490\n",
      "Epoch 9/100\n",
      "625/625 - 121s - loss: 0.3263 - acc: 0.8586 - val_loss: 0.3080 - val_acc: 0.8652\n",
      "Epoch 10/100\n",
      "625/625 - 116s - loss: 0.3045 - acc: 0.8683 - val_loss: 0.3536 - val_acc: 0.8476\n",
      "Epoch 11/100\n",
      "625/625 - 130s - loss: 0.2889 - acc: 0.8753 - val_loss: 0.3930 - val_acc: 0.8149\n",
      "Epoch 12/100\n",
      "625/625 - 124s - loss: 0.2862 - acc: 0.8771 - val_loss: 0.2343 - val_acc: 0.8952\n",
      "Epoch 13/100\n",
      "625/625 - 112s - loss: 0.2693 - acc: 0.8865 - val_loss: 0.2308 - val_acc: 0.9004\n",
      "Epoch 14/100\n",
      "625/625 - 119s - loss: 0.2621 - acc: 0.8860 - val_loss: 0.2410 - val_acc: 0.8966\n",
      "Epoch 15/100\n",
      "625/625 - 116s - loss: 0.2546 - acc: 0.8929 - val_loss: 0.2879 - val_acc: 0.8670\n",
      "Epoch 16/100\n",
      "625/625 - 117s - loss: 0.2477 - acc: 0.8940 - val_loss: 0.1927 - val_acc: 0.9181\n",
      "Epoch 17/100\n",
      "625/625 - 110s - loss: 0.2411 - acc: 0.8971 - val_loss: 0.2343 - val_acc: 0.8984\n",
      "Epoch 18/100\n",
      "625/625 - 113s - loss: 0.2437 - acc: 0.8969 - val_loss: 0.2248 - val_acc: 0.9048\n",
      "Epoch 19/100\n",
      "625/625 - 116s - loss: 0.2347 - acc: 0.9020 - val_loss: 0.2278 - val_acc: 0.9075\n",
      "Epoch 20/100\n",
      "625/625 - 107s - loss: 0.2348 - acc: 0.9038 - val_loss: 0.2027 - val_acc: 0.9139\n",
      "Epoch 21/100\n",
      "625/625 - 114s - loss: 0.2238 - acc: 0.9061 - val_loss: 0.1852 - val_acc: 0.9221\n",
      "Epoch 22/100\n",
      "625/625 - 113s - loss: 0.2160 - acc: 0.9096 - val_loss: 0.2477 - val_acc: 0.8942\n",
      "Epoch 23/100\n",
      "625/625 - 117s - loss: 0.2210 - acc: 0.9099 - val_loss: 0.1783 - val_acc: 0.9285\n",
      "Epoch 24/100\n",
      "625/625 - 106s - loss: 0.2121 - acc: 0.9095 - val_loss: 0.2197 - val_acc: 0.9069\n",
      "Epoch 25/100\n",
      "625/625 - 114s - loss: 0.2118 - acc: 0.9127 - val_loss: 0.2221 - val_acc: 0.9065\n",
      "Epoch 26/100\n",
      "625/625 - 112s - loss: 0.2094 - acc: 0.9130 - val_loss: 0.2723 - val_acc: 0.8780\n",
      "Epoch 27/100\n",
      "625/625 - 114s - loss: 0.2082 - acc: 0.9133 - val_loss: 0.2222 - val_acc: 0.9010\n",
      "Epoch 28/100\n",
      "625/625 - 113s - loss: 0.2086 - acc: 0.9140 - val_loss: 0.2230 - val_acc: 0.9044\n",
      "Epoch 29/100\n",
      "625/625 - 114s - loss: 0.2065 - acc: 0.9151 - val_loss: 0.1589 - val_acc: 0.9329\n",
      "Epoch 30/100\n",
      "625/625 - 112s - loss: 0.1979 - acc: 0.9197 - val_loss: 0.1817 - val_acc: 0.9263\n",
      "Epoch 31/100\n",
      "625/625 - 115s - loss: 0.1979 - acc: 0.9188 - val_loss: 0.1478 - val_acc: 0.9399\n",
      "Epoch 32/100\n",
      "625/625 - 108s - loss: 0.1992 - acc: 0.9179 - val_loss: 0.2439 - val_acc: 0.8890\n",
      "Epoch 33/100\n",
      "625/625 - 115s - loss: 0.1890 - acc: 0.9227 - val_loss: 0.1722 - val_acc: 0.9251\n",
      "Epoch 34/100\n",
      "625/625 - 109s - loss: 0.1882 - acc: 0.9208 - val_loss: 0.1725 - val_acc: 0.9263\n",
      "Epoch 35/100\n",
      "625/625 - 109s - loss: 0.1792 - acc: 0.9258 - val_loss: 0.1748 - val_acc: 0.9241\n",
      "Epoch 36/100\n",
      "625/625 - 112s - loss: 0.1822 - acc: 0.9246 - val_loss: 0.1535 - val_acc: 0.9389\n",
      "Epoch 37/100\n",
      "625/625 - 116s - loss: 0.1818 - acc: 0.9240 - val_loss: 0.1390 - val_acc: 0.9447\n",
      "Epoch 38/100\n",
      "625/625 - 107s - loss: 0.1864 - acc: 0.9224 - val_loss: 0.2142 - val_acc: 0.9069\n",
      "Epoch 39/100\n",
      "625/625 - 115s - loss: 0.1727 - acc: 0.9282 - val_loss: 0.1352 - val_acc: 0.9443\n",
      "Epoch 40/100\n",
      "625/625 - 106s - loss: 0.1778 - acc: 0.9269 - val_loss: 0.1668 - val_acc: 0.9319\n",
      "Epoch 41/100\n",
      "625/625 - 114s - loss: 0.1796 - acc: 0.9285 - val_loss: 0.1531 - val_acc: 0.9411\n",
      "Epoch 42/100\n",
      "625/625 - 112s - loss: 0.1782 - acc: 0.9262 - val_loss: 0.1657 - val_acc: 0.9313\n",
      "Epoch 43/100\n",
      "625/625 - 114s - loss: 0.1771 - acc: 0.9278 - val_loss: 0.1495 - val_acc: 0.9371\n",
      "Epoch 44/100\n",
      "625/625 - 112s - loss: 0.1693 - acc: 0.9312 - val_loss: 0.1564 - val_acc: 0.9335\n",
      "Epoch 45/100\n",
      "625/625 - 115s - loss: 0.1689 - acc: 0.9317 - val_loss: 0.1734 - val_acc: 0.9235\n",
      "Epoch 46/100\n",
      "625/625 - 107s - loss: 0.1678 - acc: 0.9318 - val_loss: 0.1574 - val_acc: 0.9327\n",
      "Epoch 47/100\n",
      "625/625 - 110s - loss: 0.1755 - acc: 0.9272 - val_loss: 0.2449 - val_acc: 0.8894\n",
      "Epoch 48/100\n",
      "625/625 - 112s - loss: 0.1705 - acc: 0.9307 - val_loss: 0.1488 - val_acc: 0.9437\n",
      "Epoch 49/100\n",
      "625/625 - 114s - loss: 0.1663 - acc: 0.9318 - val_loss: 0.1306 - val_acc: 0.9511\n",
      "Epoch 50/100\n",
      "625/625 - 112s - loss: 0.1654 - acc: 0.9332 - val_loss: 0.1472 - val_acc: 0.9409\n",
      "Epoch 51/100\n",
      "625/625 - 115s - loss: 0.1651 - acc: 0.9323 - val_loss: 0.1352 - val_acc: 0.9453\n",
      "Epoch 52/100\n",
      "625/625 - 107s - loss: 0.1617 - acc: 0.9348 - val_loss: 0.1372 - val_acc: 0.9453\n",
      "Epoch 53/100\n",
      "625/625 - 110s - loss: 0.1633 - acc: 0.9341 - val_loss: 0.1427 - val_acc: 0.9419\n",
      "Epoch 54/100\n",
      "625/625 - 112s - loss: 0.1596 - acc: 0.9366 - val_loss: 0.1279 - val_acc: 0.9499\n",
      "Epoch 55/100\n",
      "625/625 - 115s - loss: 0.1562 - acc: 0.9379 - val_loss: 0.1438 - val_acc: 0.9417\n",
      "Epoch 56/100\n",
      "625/625 - 106s - loss: 0.1597 - acc: 0.9349 - val_loss: 0.1352 - val_acc: 0.9455\n",
      "Epoch 57/100\n",
      "625/625 - 117s - loss: 0.1587 - acc: 0.9359 - val_loss: 0.1244 - val_acc: 0.9529\n",
      "Epoch 58/100\n",
      "625/625 - 107s - loss: 0.1553 - acc: 0.9363 - val_loss: 0.1267 - val_acc: 0.9495\n",
      "Epoch 59/100\n",
      "625/625 - 115s - loss: 0.1606 - acc: 0.9359 - val_loss: 0.1345 - val_acc: 0.9465\n",
      "Epoch 60/100\n",
      "625/625 - 107s - loss: 0.1575 - acc: 0.9365 - val_loss: 0.1197 - val_acc: 0.9545\n",
      "Epoch 61/100\n",
      "625/625 - 114s - loss: 0.1550 - acc: 0.9393 - val_loss: 0.1301 - val_acc: 0.9487\n",
      "Epoch 62/100\n",
      "625/625 - 112s - loss: 0.1544 - acc: 0.9378 - val_loss: 0.1912 - val_acc: 0.9231\n",
      "Epoch 63/100\n",
      "625/625 - 115s - loss: 0.1605 - acc: 0.9360 - val_loss: 0.1376 - val_acc: 0.9469\n",
      "Epoch 64/100\n",
      "625/625 - 107s - loss: 0.1497 - acc: 0.9398 - val_loss: 0.1266 - val_acc: 0.9485\n",
      "Epoch 65/100\n",
      "625/625 - 114s - loss: 0.1540 - acc: 0.9365 - val_loss: 0.1553 - val_acc: 0.9385\n",
      "Epoch 66/100\n",
      "625/625 - 115s - loss: 0.1461 - acc: 0.9410 - val_loss: 0.1467 - val_acc: 0.9401\n",
      "Epoch 67/100\n",
      "625/625 - 115s - loss: 0.1522 - acc: 0.9395 - val_loss: 0.1240 - val_acc: 0.9507\n",
      "Epoch 68/100\n",
      "625/625 - 106s - loss: 0.1540 - acc: 0.9390 - val_loss: 0.1272 - val_acc: 0.9467\n",
      "Epoch 69/100\n",
      "625/625 - 116s - loss: 0.1506 - acc: 0.9395 - val_loss: 0.1188 - val_acc: 0.9541\n",
      "Epoch 70/100\n",
      "625/625 - 107s - loss: 0.1489 - acc: 0.9398 - val_loss: 0.1349 - val_acc: 0.9443\n",
      "Epoch 71/100\n",
      "625/625 - 116s - loss: 0.1498 - acc: 0.9403 - val_loss: 0.1370 - val_acc: 0.9441\n",
      "Epoch 72/100\n",
      "625/625 - 112s - loss: 0.1489 - acc: 0.9390 - val_loss: 0.1315 - val_acc: 0.9483\n",
      "Epoch 73/100\n",
      "625/625 - 115s - loss: 0.1418 - acc: 0.9419 - val_loss: 0.1375 - val_acc: 0.9473\n",
      "Epoch 74/100\n",
      "625/625 - 106s - loss: 0.1407 - acc: 0.9433 - val_loss: 0.1264 - val_acc: 0.9495\n",
      "Epoch 75/100\n",
      "625/625 - 115s - loss: 0.1404 - acc: 0.9437 - val_loss: 0.1213 - val_acc: 0.9503\n",
      "Epoch 76/100\n",
      "625/625 - 111s - loss: 0.1452 - acc: 0.9427 - val_loss: 0.2046 - val_acc: 0.9189\n",
      "Epoch 77/100\n",
      "625/625 - 115s - loss: 0.1467 - acc: 0.9414 - val_loss: 0.1272 - val_acc: 0.9475\n",
      "Epoch 78/100\n",
      "625/625 - 111s - loss: 0.1446 - acc: 0.9406 - val_loss: 0.1232 - val_acc: 0.9479\n",
      "Epoch 79/100\n",
      "625/625 - 114s - loss: 0.1447 - acc: 0.9405 - val_loss: 0.1089 - val_acc: 0.9543\n",
      "Epoch 80/100\n",
      "625/625 - 111s - loss: 0.1449 - acc: 0.9413 - val_loss: 0.1592 - val_acc: 0.9317\n",
      "Epoch 81/100\n",
      "625/625 - 115s - loss: 0.1404 - acc: 0.9435 - val_loss: 0.1283 - val_acc: 0.9475\n",
      "Epoch 82/100\n",
      "625/625 - 108s - loss: 0.1536 - acc: 0.9378 - val_loss: 0.1242 - val_acc: 0.9471\n",
      "Epoch 83/100\n",
      "625/625 - 111s - loss: 0.1422 - acc: 0.9430 - val_loss: 0.1300 - val_acc: 0.9505\n",
      "Epoch 84/100\n",
      "625/625 - 107s - loss: 0.1384 - acc: 0.9445 - val_loss: 0.1285 - val_acc: 0.9455\n",
      "Epoch 85/100\n",
      "625/625 - 115s - loss: 0.1461 - acc: 0.9417 - val_loss: 0.1258 - val_acc: 0.9503\n",
      "Epoch 86/100\n",
      "625/625 - 107s - loss: 0.1433 - acc: 0.9428 - val_loss: 0.1211 - val_acc: 0.9453\n",
      "Epoch 87/100\n",
      "625/625 - 115s - loss: 0.1417 - acc: 0.9428 - val_loss: 0.1435 - val_acc: 0.9421\n",
      "Epoch 88/100\n",
      "625/625 - 107s - loss: 0.1429 - acc: 0.9420 - val_loss: 0.1208 - val_acc: 0.9499\n"
     ]
    },
    {
     "name": "stdout",
     "output_type": "stream",
     "text": [
      "Epoch 89/100\n",
      "Restoring model weights from the end of the best epoch.\n",
      "\n",
      "Epoch 00089: ReduceLROnPlateau reducing learning rate to 0.00020000000949949026.\n",
      "625/625 - 117s - loss: 0.1424 - acc: 0.9449 - val_loss: 0.1178 - val_acc: 0.9517\n",
      "Epoch 00089: early stopping\n"
     ]
    }
   ],
   "source": [
    "epochs = 100\n",
    "adam = Adam(lr=0.001,beta_1 = 0.9,beta_2 = 0.999)\n",
    "\n",
    "model.compile(loss = 'binary_crossentropy',optimizer = adam, metrics = ['accuracy'])\n",
    "\n",
    "\n",
    "callback = EarlyStopping(monitor = 'val_loss',\n",
    "                         patience = 10,\n",
    "                         mode = 'min',\n",
    "                         verbose = 1,\n",
    "                         restore_best_weights = True\n",
    "                         )\n",
    "lr = ReduceLROnPlateau(monitor = 'val_loss',\n",
    "                       factor = 0.2,\n",
    "                       patience = 10,\n",
    "                       verbose = 1,\n",
    "                       min_lr = 0.00001)\n",
    "\n",
    "history = model.fit_generator(train_generator,\n",
    "                              epochs = epochs,\n",
    "                              validation_data = valid_generator,\n",
    "                              steps_per_epoch = train_df.shape[0]//Batch_size,\n",
    "                              validation_steps = valid_df.shape[0]//Batch_size,\n",
    "                              callbacks = [callback,lr],\n",
    "                              verbose = 2)\n",
    "\n"
   ]
  },
  {
   "cell_type": "code",
   "execution_count": 11,
   "metadata": {},
   "outputs": [
    {
     "name": "stdout",
     "output_type": "stream",
     "text": [
      "dict_keys(['loss', 'acc', 'val_loss', 'val_acc', 'lr'])\n"
     ]
    },
    {
     "data": {
      "image/png": "[encoded data removed]",
      "text/plain": [
       "<Figure size 432x288 with 1 Axes>"
      ]
     },
     "metadata": {
      "needs_background": "light"
     },
     "output_type": "display_data"
    },
    {
     "data": {
      "image/png": "[encoded data removed]",
      "text/plain": [
       "<Figure size 432x288 with 1 Axes>"
      ]
     },
     "metadata": {
      "needs_background": "light"
     },
     "output_type": "display_data"
    }
   ],
   "source": [
    "# Plot the accuracy and loss curves\n",
    "\n",
    "print(history.history.keys())\n",
    "\n",
    "# Results on Training and Validation Set\n",
    "\n",
    "training_acc  = history.history['acc']\n",
    "training_loss = history.history['loss']\n",
    "\n",
    "validation_acc  = history.history['val_acc']\n",
    "validation_loss = history.history['val_loss']\n",
    "\n",
    "epochs = range(len(training_acc))\n",
    "\n",
    "# Plot Training and Validation Accuracy\n",
    "\n",
    "plt.plot(epochs,training_acc)\n",
    "plt.plot(epochs,validation_acc)\n",
    "plt.title('Model Accuracy')\n",
    "plt.xlabel('Epoch')\n",
    "plt.ylabel('Accuracy')\n",
    "plt.legend(['train','test'], loc = 'upper left')\n",
    "plt.figure()\n",
    "\n",
    "# Plot Training and Validation Loss \n",
    "\n",
    "plt.plot(epochs,training_loss)\n",
    "plt.plot(epochs,validation_loss)\n",
    "plt.title('Model Loss')\n",
    "plt.xlabel('Epoch')\n",
    "plt.ylabel('Loss')\n",
    "plt.legend(['training','validation'], loc = 'upper left')\n",
    "plt.show()"
   ]
  },
  {
   "cell_type": "code",
   "execution_count": 12,
   "metadata": {},
   "outputs": [],
   "source": [
    "# after training, save your model parameters in the dir 'saved_models'\n",
    "model.save('Saved_Models/Dogs_VS_Cats_model_03.h5')"
   ]
  },
  {
   "cell_type": "code",
   "execution_count": null,
   "metadata": {},
   "outputs": [],
   "source": []
  }
 ],
 "metadata": {
  "kernelspec": {
   "display_name": "Python 3",
   "language": "python",
   "name": "python3"
  },
  "language_info": {
   "codemirror_mode": {
    "name": "ipython",
    "version": 3
   },
   "file_extension": ".py",
   "mimetype": "text/x-python",
   "name": "python",
   "nbconvert_exporter": "python",
   "pygments_lexer": "ipython3",
   "version": "3.7.3"
  }
 },
 "nbformat": 4,
 "nbformat_minor": 2
}
